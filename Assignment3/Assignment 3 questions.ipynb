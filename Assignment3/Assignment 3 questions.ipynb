{
 "cells": [
  {
   "cell_type": "code",
   "execution_count": 53,
   "id": "emotional-industry",
   "metadata": {},
   "outputs": [],
   "source": [
    "import numpy as np\n",
    "import matplotlib.pyplot as plt\n",
    "import scipy\n",
    "from scipy.fftpack import dct, idct"
   ]
  },
  {
   "cell_type": "code",
   "execution_count": 54,
   "id": "bound-shade",
   "metadata": {},
   "outputs": [
    {
     "name": "stdout",
     "output_type": "stream",
     "text": [
      "[188, 180, 155, 149, 179, 116, 86, 96, 168, 179, 168, 174, 180, 111, 86, 95, 150, 166, 175, 189, 165, 101, 88, 97, 163, 165, 179, 184, 135, 90, 91, 96, 170, 180, 178, 144, 102, 87, 91, 98, 175, 174, 141, 104, 85, 83, 88, 96, 153, 134, 105, 82, 83, 87, 92, 96, 117, 104, 86, 80, 86, 90, 92, 103]\n"
     ]
    }
   ],
   "source": [
    "image_list = \"188 180 155 149 179 116 86 96 \\\n",
    "168 179 168 174 180 111 86 95 \\\n",
    "150 166 175 189 165 101 88 97 \\\n",
    "163 165 179 184 135 90 91 96 \\\n",
    "170 180 178 144 102 87 91 98 \\\n",
    "175 174 141 104 85 83 88 96 \\\n",
    "153 134 105 82 83 87 92 96 \\\n",
    "117 104 86 80 86 90 92 103\".split()\n",
    "for i in range(len(image_list)):\n",
    "    image_list[i] = int(image_list[i])\n",
    "print(image_list)"
   ]
  },
  {
   "cell_type": "code",
   "execution_count": 55,
   "id": "detailed-advocate",
   "metadata": {},
   "outputs": [
    {
     "data": {
      "text/plain": [
       "array([[188., 180., 155., 149., 179., 116.,  86.,  96.],\n",
       "       [168., 179., 168., 174., 180., 111.,  86.,  95.],\n",
       "       [150., 166., 175., 189., 165., 101.,  88.,  97.],\n",
       "       [163., 165., 179., 184., 135.,  90.,  91.,  96.],\n",
       "       [170., 180., 178., 144., 102.,  87.,  91.,  98.],\n",
       "       [175., 174., 141., 104.,  85.,  83.,  88.,  96.],\n",
       "       [153., 134., 105.,  82.,  83.,  87.,  92.,  96.],\n",
       "       [117., 104.,  86.,  80.,  86.,  90.,  92., 103.]])"
      ]
     },
     "execution_count": 55,
     "metadata": {},
     "output_type": "execute_result"
    }
   ],
   "source": [
    "image = np.array(image, dtype=np.float64).reshape(8,8)\n",
    "image"
   ]
  },
  {
   "cell_type": "code",
   "execution_count": 56,
   "id": "timely-means",
   "metadata": {},
   "outputs": [],
   "source": [
    "def dct2(a):\n",
    "    return scipy.fftpack.dct( scipy.fftpack.dct( a, axis=0, norm='ortho' ), axis=1, norm='ortho' )\n",
    "\n",
    "def idct2(a):\n",
    "    return scipy.fftpack.idct( scipy.fftpack.idct( a, axis=0 , norm='ortho'), axis=1 , norm='ortho')"
   ]
  },
  {
   "cell_type": "code",
   "execution_count": 57,
   "id": "boolean-springfield",
   "metadata": {},
   "outputs": [
    {
     "data": {
      "text/plain": [
       "(8, 8)"
      ]
     },
     "execution_count": 57,
     "metadata": {},
     "output_type": "execute_result"
    }
   ],
   "source": [
    "dct_values = np.round(dct2(image))\n",
    "dct_values.shape"
   ]
  },
  {
   "cell_type": "code",
   "execution_count": 58,
   "id": "extra-visit",
   "metadata": {},
   "outputs": [
    {
     "name": "stdout",
     "output_type": "stream",
     "text": [
      "1016  216   -7  -27   29  -21  -11    8 \n",
      " 136   53  -93   -7   34  -19  -11   11 \n",
      " -46  -49   14   54   11  -25   -0    8 \n",
      "   9   38   48   16  -18  -11    4    4 \n",
      "  -1   -6   -1   -5    1    7    5    0 \n",
      "  -4   -1    3    8    7    6   -0    1 \n",
      "  -3   -2    1   -1    0   -3   -1   -1 \n",
      "  -1   -3   -1   -2   -4   -1    2    2 \n"
     ]
    }
   ],
   "source": [
    "for r in np.arange(dct_values.shape[0]):\n",
    "    for c in np.arange(dct_values.shape[1]):\n",
    "        print(\"{:>4.0f}\".format(dct_values[r, c]), end =\" \")\n",
    "    print(\"\")"
   ]
  },
  {
   "cell_type": "code",
   "execution_count": 59,
   "id": "executive-accreditation",
   "metadata": {},
   "outputs": [],
   "source": [
    "from typing import List\n",
    "\n",
    "def findDiagonalOrder(matrix) -> List[int]:\n",
    "        # Variables to track the size of the matrix\n",
    "        N, M = len(matrix), len(matrix[0])\n",
    "        \n",
    "        # The two arrays as explained in the algorithm\n",
    "        result, intermediate = [], []\n",
    "        \n",
    "        # We have to go over all the elements in the first\n",
    "        # row and the last column to cover all possible diagonals\n",
    "        for d in range(N + M - 1):\n",
    "            \n",
    "            # Clear the intermediate array everytime we start\n",
    "            # to process another diagonal\n",
    "            intermediate.clear()\n",
    "            \n",
    "            # We need to figure out the \"head\" of this diagonal\n",
    "            # The elements in the first row and the last column\n",
    "            # are the respective heads.\n",
    "            r, c = 0 if d < M else d - M + 1, d if d < M else M - 1\n",
    "            \n",
    "            # Iterate until one of the indices goes out of scope\n",
    "            # Take note of the index math to go down the diagonal\n",
    "            while r < N and c > -1:\n",
    "                intermediate.append(matrix[r, c])\n",
    "                r += 1\n",
    "                c -= 1\n",
    "            \n",
    "            # Reverse even numbered diagonals. The\n",
    "            # article says we have to reverse odd \n",
    "            # numbered articles but here, the numbering\n",
    "            # is starting from 0 :P\n",
    "            if d % 2 == 0:\n",
    "                result.extend(intermediate[::-1])\n",
    "            else:\n",
    "                result.extend(intermediate)\n",
    "        return result "
   ]
  },
  {
   "cell_type": "code",
   "execution_count": 67,
   "id": "careful-colors",
   "metadata": {},
   "outputs": [
    {
     "name": "stdout",
     "output_type": "stream",
     "text": [
      "[1016.0, 216.0, 136.0, -46.0, 53.0, -7.0, -27.0, -93.0, -49.0, 9.0, -1.0, 38.0, 14.0, -7.0, 29.0, -21.0, 34.0, 54.0, 48.0, -6.0, -4.0, -3.0, -1.0, -1.0, 16.0, 11.0, -19.0, -11.0, 8.0, -11.0, -25.0, -18.0, -5.0, 3.0, -2.0, -1.0, -3.0, 1.0, 8.0, 1.0, -11.0, -0.0, 11.0, 8.0, 4.0, 7.0, 7.0, -1.0, -1.0, -2.0, 0.0, 6.0, 5.0, 4.0, 0.0, -0.0, -3.0, -4.0, -1.0, -1.0, 1.0, -1.0, 2.0, 2.0]\n"
     ]
    }
   ],
   "source": [
    "zig_zag_list = findDiagonalOrder(dct_values)\n",
    "print(zig_zag_list)"
   ]
  },
  {
   "cell_type": "code",
   "execution_count": 68,
   "id": "ready-diamond",
   "metadata": {},
   "outputs": [
    {
     "name": "stdout",
     "output_type": "stream",
     "text": [
      "1016, 216, 136, -46, 53, -7, -27, -93, -49, 9, -1, 38, 14, -7, 29, -21, 34, 54, 48, -6, -4, -3, -1, -1, 16, 11, -19, -11, 8, -11, -25, -18, -5, 3, -2, -1, -3, 1, 8, 1, -11, -0, 11, 8, 4, 7, 7, -1, -1, -2, 0, 6, 5, 4, 0, -0, -3, -4, -1, -1, 1, -1, 2, 2, "
     ]
    }
   ],
   "source": [
    "for i in range(len(zig_zag_list)):\n",
    "    print(\"{:.0f}\".format(zig_zag_list[i]), end =\", \")"
   ]
  },
  {
   "cell_type": "code",
   "execution_count": 69,
   "id": "injured-tanzania",
   "metadata": {},
   "outputs": [
    {
     "name": "stdout",
     "output_type": "stream",
     "text": [
      "800, 80, 182, -99, 60, 20, 66, -44, -58, 10, -39, 24, 21, -36, 50, -55, -20, 6, 54, -2, -1, -2, 0, -17, 5, 30, -8, -19, 19, 14, -7, -13, -8, 5, -1, 2, -4, -7, 7, 12, -11, -11, 3, 4, -3, 0, 8, 0, 1, -2, -6, 1, 1, 4, 0, 3, 1, -3, 0, -2, 2, -3, 0, "
     ]
    }
   ],
   "source": [
    "intermediary_notation = []\n",
    "for i in range(len(zig_zag_list)-1):\n",
    "    intermediary_notation.append(zig_zag_list[i] - zig_zag_list[i+1])\n",
    "for i in range(len(intermediary_notation)):\n",
    "    print(\"{:.0f}\".format(intermediary_notation[i]), end =\", \")"
   ]
  },
  {
   "cell_type": "code",
   "execution_count": 75,
   "id": "wound-restaurant",
   "metadata": {},
   "outputs": [
    {
     "data": {
      "text/plain": [
       "array([[1, 2, 3, 4, 5, 6, 7, 8, 9, 0, 1, 2],\n",
       "       [0, 1, 2, 3, 4, 5, 6, 7, 8, 9, 0, 1],\n",
       "       [9, 0, 1, 2, 3, 4, 5, 6, 7, 8, 9, 0],\n",
       "       [8, 9, 0, 1, 2, 3, 4, 5, 6, 7, 8, 9],\n",
       "       [7, 8, 9, 0, 1, 2, 3, 4, 5, 6, 7, 8],\n",
       "       [6, 7, 8, 9, 0, 1, 2, 3, 4, 5, 6, 7],\n",
       "       [5, 6, 7, 8, 9, 0, 1, 2, 3, 4, 5, 6],\n",
       "       [4, 5, 6, 7, 8, 9, 0, 1, 2, 3, 4, 5]])"
      ]
     },
     "execution_count": 75,
     "metadata": {},
     "output_type": "execute_result"
    }
   ],
   "source": [
    "raw_image = []\n",
    "for i in range(8):\n",
    "    row = []\n",
    "    for j in range(12):\n",
    "        row.append((j-i+1)%10)\n",
    "    raw_image.append(row)\n",
    "raw_image = np.array(raw_image)\n",
    "raw_image"
   ]
  },
  {
   "cell_type": "code",
   "execution_count": 94,
   "id": "ignored-shopping",
   "metadata": {},
   "outputs": [
    {
     "name": "stdout",
     "output_type": "stream",
     "text": [
      "  28   57   85  113  142  170  198  227  255    0   28   57 \n",
      "   0   28   57   85  113  142  170  198  227  255    0   28 \n",
      " 255    0   28   57   85  113  142  170  198  227  255    0 \n",
      " 227  255    0   28   57   85  113  142  170  198  227  255 \n",
      " 198  227  255    0   28   57   85  113  142  170  198  227 \n",
      " 170  198  227  255    0   28   57   85  113  142  170  198 \n",
      " 142  170  198  227  255    0   28   57   85  113  142  170 \n",
      " 113  142  170  198  227  255    0   28   57   85  113  142 \n"
     ]
    }
   ],
   "source": [
    "gray_scale_image = np.round(raw_image * 255 / 9)\n",
    "for r in np.arange(gray_scale_image.shape[0]):\n",
    "    for c in np.arange(gray_scale_image.shape[1]):\n",
    "        print(\"{:>4.0f}\".format(gray_scale_image[r, c]), end =\" \")\n",
    "    print(\"\")"
   ]
  },
  {
   "cell_type": "code",
   "execution_count": 95,
   "id": "orange-ending",
   "metadata": {},
   "outputs": [
    {
     "name": "stdout",
     "output_type": "stream",
     "text": [
      "   0    0    0    0  255  255  255  255  255    0    0    0 \n",
      "   0    0    0    0    0  255  255  255  255  255    0    0 \n",
      " 255    0    0    0    0    0  255  255  255  255  255    0 \n",
      " 255  255    0    0    0    0    0  255  255  255  255  255 \n",
      " 255  255  255    0    0    0    0    0  255  255  255  255 \n",
      " 255  255  255  255    0    0    0    0    0  255  255  255 \n",
      " 255  255  255  255  255    0    0    0    0    0  255  255 \n",
      "   0  255  255  255  255  255    0    0    0    0    0  255 \n"
     ]
    }
   ],
   "source": [
    "gray_scale_image2 = np.round(np.where(raw_image>4.5, 9, 0) * 255 / 9)\n",
    "for r in np.arange(gray_scale_image2.shape[0]):\n",
    "    for c in np.arange(gray_scale_image2.shape[1]):\n",
    "        print(\"{:>4.0f}\".format(gray_scale_image2[r, c]), end =\" \")\n",
    "    print(\"\")"
   ]
  },
  {
   "cell_type": "code",
   "execution_count": 96,
   "id": "boring-chester",
   "metadata": {},
   "outputs": [
    {
     "name": "stdout",
     "output_type": "stream",
     "text": [
      "   0    0    0    0    0  255  255    0  255    0    0    0 \n",
      "   0  255    0  255  255  255  255  255  255  255    0    0 \n",
      " 255    0    0    0  255    0    0  255    0  255  255    0 \n",
      " 255  255    0    0    0    0    0    0  255  255    0  255 \n",
      " 255  255  255    0  255    0  255  255  255  255  255  255 \n",
      " 255  255  255  255    0    0    0  255    0    0  255    0 \n",
      "   0    0  255  255  255    0    0    0    0    0    0  255 \n",
      " 255  255  255  255  255  255    0  255    0  255  255  255 \n"
     ]
    }
   ],
   "source": [
    "gray_scale_image3 = np.zeros_like(raw_image)\n",
    "D = np.array([[6,8,4],\n",
    "             [1,0,3],\n",
    "             [5,2,7]])\n",
    "k = 3\n",
    "for r in np.arange(raw_image.shape[0]):\n",
    "    for c in np.arange(raw_image.shape[1]):\n",
    "        i = r % k\n",
    "        j = c % k\n",
    "        if raw_image[r,c] > D[i,j]:\n",
    "            gray_scale_image3[r,c] = 255\n",
    "        else:\n",
    "            gray_scale_image3[r,c] = 0\n",
    "for r in np.arange(gray_scale_image3.shape[0]):\n",
    "    for c in np.arange(gray_scale_image3.shape[1]):\n",
    "        print(\"{:>4.0f}\".format(gray_scale_image3[r, c]), end =\" \")\n",
    "    print(\"\")"
   ]
  },
  {
   "cell_type": "code",
   "execution_count": 97,
   "id": "ecological-cassette",
   "metadata": {},
   "outputs": [
    {
     "name": "stdout",
     "output_type": "stream",
     "text": [
      " 255    0  255  255  255  255  255  255  255    0    0  255 \n",
      "   0    0    0  255    0    0  255    0  255  255    0    0 \n",
      " 255    0    0    0    0    0    0  255  255    0  255    0 \n",
      " 255  255    0  255    0  255  255  255  255  255  255  255 \n",
      " 255  255  255    0    0    0  255    0    0  255    0  255 \n",
      "   0  255  255  255    0    0    0    0    0    0  255  255 \n",
      " 255  255  255  255  255    0  255    0  255  255  255  255 \n",
      " 255    0  255  255  255  255    0    0    0  255    0    0 \n"
     ]
    }
   ],
   "source": [
    "gray_scale_image4 = np.zeros_like(raw_image)\n",
    "for r in np.arange(raw_image.shape[0]):\n",
    "    for c in np.arange(raw_image.shape[1]):\n",
    "        i = (r+1) % k\n",
    "        j = (c+1) % k\n",
    "        if raw_image[r,c] > D[i,j]:\n",
    "            gray_scale_image4[r,c] = 255\n",
    "        else:\n",
    "            gray_scale_image4[r,c] = 0\n",
    "for r in np.arange(gray_scale_image4.shape[0]):\n",
    "    for c in np.arange(gray_scale_image4.shape[1]):\n",
    "        print(\"{:>4.0f}\".format(gray_scale_image4[r, c]), end =\" \")\n",
    "    print(\"\")"
   ]
  },
  {
   "cell_type": "code",
   "execution_count": null,
   "id": "floating-ribbon",
   "metadata": {},
   "outputs": [],
   "source": []
  }
 ],
 "metadata": {
  "kernelspec": {
   "display_name": "Python 3",
   "language": "python",
   "name": "python3"
  },
  "language_info": {
   "codemirror_mode": {
    "name": "ipython",
    "version": 3
   },
   "file_extension": ".py",
   "mimetype": "text/x-python",
   "name": "python",
   "nbconvert_exporter": "python",
   "pygments_lexer": "ipython3",
   "version": "3.6.13"
  }
 },
 "nbformat": 4,
 "nbformat_minor": 5
}
