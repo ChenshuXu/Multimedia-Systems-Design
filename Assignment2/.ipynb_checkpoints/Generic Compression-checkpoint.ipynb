{
 "cells": [
  {
   "cell_type": "code",
   "execution_count": 42,
   "metadata": {},
   "outputs": [],
   "source": [
    "sequence = [5.8, 6.2, 6.2, 7.2, 7.3, 7.3, 6.5, 6.8, 6.8, 6.8, 5.5, 5.0, 5.2, 5.2, 5.8, 6.2, 6.2, 6.2, 5.9, 6.3, 5.2, 4.2, 2.8, 2.8, 2.3, 2.9, 1.8, 2.5, 2.5, 3.3, 4.1, 4.9]"
   ]
  },
  {
   "cell_type": "code",
   "execution_count": 43,
   "metadata": {},
   "outputs": [
    {
     "name": "stdout",
     "output_type": "stream",
     "text": [
      "level 0 0.25\n",
      "level 1 0.5\n",
      "level 2 0.75\n",
      "level 3 1.0\n",
      "level 4 1.25\n",
      "level 5 1.5\n",
      "level 6 1.75\n",
      "level 7 2.0\n",
      "level 8 2.25\n",
      "level 9 2.5\n",
      "level 10 2.75\n",
      "level 11 3.0\n",
      "level 12 3.25\n",
      "level 13 3.5\n",
      "level 14 3.75\n",
      "level 15 4.0\n",
      "level 16 4.25\n",
      "level 17 4.5\n",
      "level 18 4.75\n",
      "level 19 5.0\n",
      "level 20 5.25\n",
      "level 21 5.5\n",
      "level 22 5.75\n",
      "level 23 6.0\n",
      "level 24 6.25\n",
      "level 25 6.5\n",
      "level 26 6.75\n",
      "level 27 7.0\n",
      "level 28 7.25\n",
      "level 29 7.5\n",
      "level 30 7.75\n",
      "level 31 8.0\n"
     ]
    }
   ],
   "source": [
    "levels = []\n",
    "step = 8/32\n",
    "for i in range(32):\n",
    "    levels.append((i+1)*step)\n",
    "\n",
    "for i, v in enumerate(levels):\n",
    "    print(\"level {} {}\".format(i, v)) "
   ]
  },
  {
   "cell_type": "code",
   "execution_count": 44,
   "metadata": {},
   "outputs": [],
   "source": [
    "def find_level(value):\n",
    "    closest = 0.25\n",
    "    distance = 999\n",
    "    level = 0\n",
    "    for i in range(len(levels)):\n",
    "        l = levels[i]\n",
    "        d = abs(l - value)\n",
    "        if d < distance:\n",
    "            distance = d\n",
    "            closest = l\n",
    "            level = i\n",
    "    return level"
   ]
  },
  {
   "cell_type": "code",
   "execution_count": 45,
   "metadata": {},
   "outputs": [
    {
     "name": "stdout",
     "output_type": "stream",
     "text": [
      "[22, 24, 24, 28, 28, 28, 25, 26, 26, 26, 21, 19, 20, 20, 22, 24, 24, 24, 23, 24, 20, 16, 10, 10, 8, 11, 6, 9, 9, 12, 15, 19]\n"
     ]
    }
   ],
   "source": [
    "sequence_levels = []\n",
    "for v in sequence:\n",
    "    sequence_levels.append(find_level(v))\n",
    "print(sequence_levels)"
   ]
  },
  {
   "cell_type": "code",
   "execution_count": 46,
   "metadata": {},
   "outputs": [
    {
     "data": {
      "text/plain": [
       "32"
      ]
     },
     "execution_count": 46,
     "metadata": {},
     "output_type": "execute_result"
    }
   ],
   "source": [
    "len(sequence_levels)"
   ]
  },
  {
   "cell_type": "code",
   "execution_count": 47,
   "metadata": {},
   "outputs": [
    {
     "name": "stdout",
     "output_type": "stream",
     "text": [
      "[2, 0, 4, 0, 0, -3, 1, 0, 0, -5, -2, 1, 0, 2, 2, 0, 0, -1, 1, -4, -4, -6, 0, -2, 3, -5, 3, 0, 3, 3, 4]\n"
     ]
    }
   ],
   "source": [
    "dpcm_sequence = []\n",
    "for i in range(1, len(sequence_levels)):\n",
    "    dpcm_sequence.append(sequence_levels[i] - sequence_levels[i-1])\n",
    "print(dpcm_sequence)"
   ]
  },
  {
   "cell_type": "code",
   "execution_count": 48,
   "metadata": {},
   "outputs": [
    {
     "data": {
      "text/plain": [
       "4"
      ]
     },
     "execution_count": 48,
     "metadata": {},
     "output_type": "execute_result"
    }
   ],
   "source": [
    "max(dpcm_sequence)"
   ]
  },
  {
   "cell_type": "code",
   "execution_count": 49,
   "metadata": {},
   "outputs": [
    {
     "data": {
      "text/plain": [
       "-6"
      ]
     },
     "execution_count": 49,
     "metadata": {},
     "output_type": "execute_result"
    }
   ],
   "source": [
    "min(dpcm_sequence)"
   ]
  },
  {
   "cell_type": "code",
   "execution_count": 58,
   "metadata": {},
   "outputs": [
    {
     "data": {
      "text/plain": [
       "{2: 3, 0: 10, 4: 2, -3: 1, 1: 3, -5: 2, -2: 2, -1: 1, -4: 2, -6: 1, 3: 4}"
      ]
     },
     "execution_count": 58,
     "metadata": {},
     "output_type": "execute_result"
    }
   ],
   "source": [
    "dpcm_sequence_freq = {}\n",
    "for v in dpcm_sequence:\n",
    "    dpcm_sequence_freq[v] = dpcm_sequence.count(v)\n",
    "dpcm_sequence_freq"
   ]
  },
  {
   "cell_type": "code",
   "execution_count": 59,
   "metadata": {},
   "outputs": [
    {
     "name": "stdout",
     "output_type": "stream",
     "text": [
      "2 -> 000\n",
      "1 -> 001\n",
      "-6 -> 0100\n",
      "4 -> 0101\n",
      "3 -> 011\n",
      "-5 -> 1000\n",
      "-2 -> 1001\n",
      "-4 -> 1010\n",
      "-3 -> 10110\n",
      "-1 -> 10111\n",
      "0 -> 11\n"
     ]
    }
   ],
   "source": [
    "# A Huffman Tree Node\n",
    "class node:\n",
    "    def __init__(self, freq, symbol, left=None, right=None):\n",
    "        # frequency of symbol\n",
    "        self.freq = freq\n",
    " \n",
    "        # symbol name (charecter)\n",
    "        self.symbol = symbol\n",
    " \n",
    "        # node left of current node\n",
    "        self.left = left\n",
    " \n",
    "        # node right of current node\n",
    "        self.right = right\n",
    " \n",
    "        # tree direction (0/1)\n",
    "        self.huff = ''\n",
    " \n",
    "# utility function to print huffman\n",
    "# codes for all symbols in the newly\n",
    "# created Huffman tree\n",
    " \n",
    " \n",
    "def printNodes(node, val=''):\n",
    "    # huffman code for current node\n",
    "    newVal = val + str(node.huff)\n",
    " \n",
    "    # if node is not an edge node\n",
    "    # then traverse inside it\n",
    "    if(node.left):\n",
    "        printNodes(node.left, newVal)\n",
    "    if(node.right):\n",
    "        printNodes(node.right, newVal)\n",
    " \n",
    "        # if node is edge node then\n",
    "        # display its huffman code\n",
    "    if(not node.left and not node.right):\n",
    "        print(f\"{node.symbol} -> {newVal}\")\n",
    " \n",
    " \n",
    "# charecters for huffman tree\n",
    "chars = list(dpcm_sequence_freq.keys())\n",
    " \n",
    "# frequency of charecters\n",
    "freq = list(dpcm_sequence_freq.values())\n",
    " \n",
    "# list containing unused nodes\n",
    "nodes = []\n",
    " \n",
    "# converting ccharecters and frequencies\n",
    "# into huffman tree nodes\n",
    "for x in range(len(chars)):\n",
    "    nodes.append(node(freq[x], chars[x]))\n",
    " \n",
    "while len(nodes) > 1:\n",
    "    # sort all the nodes in ascending order\n",
    "    # based on theri frequency\n",
    "    nodes = sorted(nodes, key=lambda x: x.freq)\n",
    " \n",
    "    # pick 2 smallest nodes\n",
    "    left = nodes[0]\n",
    "    right = nodes[1]\n",
    " \n",
    "    # assign directional value to these nodes\n",
    "    left.huff = 0\n",
    "    right.huff = 1\n",
    " \n",
    "    # combine the 2 smallest nodes to create\n",
    "    # new node as their parent\n",
    "    newNode = node(left.freq+right.freq, left.symbol+right.symbol, left, right)\n",
    " \n",
    "    # remove the 2 nodes and add their\n",
    "    # parent as new node among others\n",
    "    nodes.remove(left)\n",
    "    nodes.remove(right)\n",
    "    nodes.append(newNode)\n",
    " \n",
    "# Huffman Tree is ready!\n",
    "printNodes(nodes[0])"
   ]
  },
  {
   "cell_type": "code",
   "execution_count": null,
   "metadata": {},
   "outputs": [],
   "source": []
  }
 ],
 "metadata": {
  "kernelspec": {
   "display_name": "Python 3",
   "language": "python",
   "name": "python3"
  },
  "language_info": {
   "codemirror_mode": {
    "name": "ipython",
    "version": 3
   },
   "file_extension": ".py",
   "mimetype": "text/x-python",
   "name": "python",
   "nbconvert_exporter": "python",
   "pygments_lexer": "ipython3",
   "version": "3.7.4"
  }
 },
 "nbformat": 4,
 "nbformat_minor": 2
}
