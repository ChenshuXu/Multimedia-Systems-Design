{
 "cells": [
  {
   "cell_type": "code",
   "execution_count": 6,
   "metadata": {},
   "outputs": [],
   "source": [
    "sequence = [1.8, 2.2, 2.2, 3.2, 3.3, 3.3, 2.5, 2.8, 2.8, 2.8, 1.5, 1.0, 1.2, 1.2, 1.8, 2.2, 2.2, 2.2, 1.9, 2.3, 1.2, 0.2, -1.2, -1.2, -1.7, -1.1, -2.2, -1.5, -1.5, -0.7, 0.1, 0.9]"
   ]
  },
  {
   "cell_type": "code",
   "execution_count": 7,
   "metadata": {},
   "outputs": [
    {
     "data": {
      "text/plain": [
       "[-3.75,\n",
       " -3.5,\n",
       " -3.25,\n",
       " -3.0,\n",
       " -2.75,\n",
       " -2.5,\n",
       " -2.25,\n",
       " -2.0,\n",
       " -1.75,\n",
       " -1.5,\n",
       " -1.25,\n",
       " -1.0,\n",
       " -0.75,\n",
       " -0.5,\n",
       " -0.25,\n",
       " 0.0,\n",
       " 0.25,\n",
       " 0.5,\n",
       " 0.75,\n",
       " 1.0,\n",
       " 1.25,\n",
       " 1.5,\n",
       " 1.75,\n",
       " 2.0,\n",
       " 2.25,\n",
       " 2.5,\n",
       " 2.75,\n",
       " 3.0,\n",
       " 3.25,\n",
       " 3.5,\n",
       " 3.75,\n",
       " 4.0]"
      ]
     },
     "execution_count": 7,
     "metadata": {},
     "output_type": "execute_result"
    }
   ],
   "source": [
    "levels = []\n",
    "step = 8/32\n",
    "for i in range(32):\n",
    "    levels.append(i*step-4+0.25)\n",
    "levels"
   ]
  },
  {
   "cell_type": "code",
   "execution_count": 11,
   "metadata": {},
   "outputs": [],
   "source": [
    "def quantization1(value, minValue=-4, maxValue=4, q=32):\n",
    "    step = (maxValue-minValue)/q\n",
    "    multiple = round((value+4) / step)\n",
    "    return minValue + step * (multiple)"
   ]
  },
  {
   "cell_type": "code",
   "execution_count": 12,
   "metadata": {},
   "outputs": [],
   "source": [
    "def quantization2(value):\n",
    "    closest = -3.75\n",
    "    distance = 999\n",
    "    for i in levels:\n",
    "        d = abs(i - value)\n",
    "        if d < distance:\n",
    "            distance = d\n",
    "            closest = i\n",
    "    return closest"
   ]
  },
  {
   "cell_type": "code",
   "execution_count": 14,
   "metadata": {},
   "outputs": [
    {
     "name": "stdout",
     "output_type": "stream",
     "text": [
      "1.8 1.75 1.75\n",
      "2.2 2.25 2.25\n",
      "2.2 2.25 2.25\n",
      "3.2 3.25 3.25\n",
      "3.3 3.25 3.25\n",
      "3.3 3.25 3.25\n",
      "2.5 2.5 2.5\n",
      "2.8 2.75 2.75\n",
      "2.8 2.75 2.75\n",
      "2.8 2.75 2.75\n",
      "1.5 1.5 1.5\n",
      "1.0 1.0 1.0\n",
      "1.2 1.25 1.25\n",
      "1.2 1.25 1.25\n",
      "1.8 1.75 1.75\n",
      "2.2 2.25 2.25\n",
      "2.2 2.25 2.25\n",
      "2.2 2.25 2.25\n",
      "1.9 2.0 2.0\n",
      "2.3 2.25 2.25\n",
      "1.2 1.25 1.25\n",
      "0.2 0.25 0.25\n",
      "-1.2 -1.25 -1.25\n",
      "-1.2 -1.25 -1.25\n",
      "-1.7 -1.75 -1.75\n",
      "-1.1 -1.0 -1.0\n",
      "-2.2 -2.25 -2.25\n",
      "-1.5 -1.5 -1.5\n",
      "-1.5 -1.5 -1.5\n",
      "-0.7 -0.75 -0.75\n",
      "0.1 0.0 0.0\n",
      "0.9 1.0 1.0\n"
     ]
    }
   ],
   "source": [
    "for a in sequence:\n",
    "    print(\"{} {} {}\".format(a, quantization1(a), quantization2(a)))"
   ]
  },
  {
   "cell_type": "code",
   "execution_count": 18,
   "metadata": {},
   "outputs": [],
   "source": [
    "line = \"\"\n",
    "for a in sequence:\n",
    "    line += str(quantization2(a)) + \", \""
   ]
  },
  {
   "cell_type": "code",
   "execution_count": 22,
   "metadata": {},
   "outputs": [
    {
     "data": {
      "text/plain": [
       "32"
      ]
     },
     "execution_count": 22,
     "metadata": {},
     "output_type": "execute_result"
    }
   ],
   "source": [
    "len(sequence)"
   ]
  },
  {
   "cell_type": "code",
   "execution_count": null,
   "metadata": {},
   "outputs": [],
   "source": []
  }
 ],
 "metadata": {
  "kernelspec": {
   "display_name": "Python 3",
   "language": "python",
   "name": "python3"
  },
  "language_info": {
   "codemirror_mode": {
    "name": "ipython",
    "version": 3
   },
   "file_extension": ".py",
   "mimetype": "text/x-python",
   "name": "python",
   "nbconvert_exporter": "python",
   "pygments_lexer": "ipython3",
   "version": "3.7.9"
  }
 },
 "nbformat": 4,
 "nbformat_minor": 4
}
